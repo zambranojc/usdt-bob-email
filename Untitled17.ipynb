{
  "nbformat": 4,
  "nbformat_minor": 0,
  "metadata": {
    "colab": {
      "provenance": [],
      "authorship_tag": "ABX9TyOUZczkECjzkXenRAPNzJN+",
      "include_colab_link": true
    },
    "kernelspec": {
      "name": "python3",
      "display_name": "Python 3"
    },
    "language_info": {
      "name": "python"
    }
  },
  "cells": [
    {
      "cell_type": "markdown",
      "metadata": {
        "id": "view-in-github",
        "colab_type": "text"
      },
      "source": [
        "<a href=\"https://colab.research.google.com/github/zambranojc/usdt-bob-email/blob/main/Untitled17.ipynb\" target=\"_parent\"><img src=\"https://colab.research.google.com/assets/colab-badge.svg\" alt=\"Open In Colab\"/></a>"
      ]
    },
    {
      "cell_type": "code",
      "execution_count": null,
      "metadata": {
        "id": "sgXqn2iyPXpT"
      },
      "outputs": [],
      "source": [
        "# --- SCRIPT PARA DEPLOY EN RENDER ---\n",
        "\n",
        "# INSTALAR DEPENDENCIAS EN ENTORNOS LOCALES (comentado en Render)\n",
        "# !pip install selenium requests urllib3\n",
        "\n",
        "from selenium import webdriver\n",
        "from selenium.webdriver.chrome.options import Options\n",
        "from email.mime.multipart import MIMEMultipart\n",
        "from email.mime.text import MIMEText\n",
        "from email.mime.image import MIMEImage\n",
        "import smtplib\n",
        "import time\n",
        "import os\n",
        "\n",
        "# --- FUNCION PRINCIPAL ---\n",
        "def send_usdt_bob_email():\n",
        "    # CONFIGURACIÓN DEL USUARIO\n",
        "    EMAIL_USER = 'TU_CORREO@gmail.com'             # <-- Cambia esto\n",
        "    EMAIL_PASSWORD = 'TU_PASSWORD_APP'              # <-- Cambia esto\n",
        "    EMAIL_SEND = 'DESTINATARIO_CORREO@empresa.com'  # <-- Cambia esto\n",
        "    EMAIL_CC = ''                                   # <-- Opcional\n",
        "    SUBJECT = 'Tipo de Cambio USDT/BOB - Diario'\n",
        "    URL = \"https://p2p.army/en/p2p/fiats/BOB\"\n",
        "\n",
        "    # CONFIGURAR CHROME HEADLESS\n",
        "    options = Options()\n",
        "    options.add_argument(\"--headless\")\n",
        "    options.add_argument(\"--disable-gpu\")\n",
        "    options.add_argument(\"--no-sandbox\")\n",
        "    options.add_argument(\"--disable-dev-shm-usage\")\n",
        "    options.add_argument(\"--window-size=2560x1600\")\n",
        "\n",
        "    driver = webdriver.Chrome(options=options)\n",
        "    driver.get(URL)\n",
        "    time.sleep(15)\n",
        "    driver.execute_script(\"window.scrollTo(0, 500)\")\n",
        "    time.sleep(3)\n",
        "\n",
        "    screenshot_path = \"usdt_bob.png\"\n",
        "    driver.save_screenshot(screenshot_path)\n",
        "    driver.quit()\n",
        "\n",
        "    # PREPARAR EMAIL\n",
        "    msg = MIMEMultipart()\n",
        "    msg['From'] = EMAIL_USER\n",
        "    msg['To'] = EMAIL_SEND\n",
        "    msg['Cc'] = EMAIL_CC\n",
        "    msg['Subject'] = SUBJECT\n",
        "\n",
        "    body = \"Adjunto gráfico de cotización USDT/BOB desde P2P Army.\"\n",
        "    msg.attach(MIMEText(body, 'plain'))\n",
        "\n",
        "    with open(screenshot_path, 'rb') as f:\n",
        "        img = MIMEImage(f.read())\n",
        "        img.add_header('Content-Disposition', 'attachment', filename='usdt_bob.png')\n",
        "        msg.attach(img)\n",
        "\n",
        "    recipients = [EMAIL_SEND]\n",
        "    if EMAIL_CC:\n",
        "        recipients.append(EMAIL_CC)\n",
        "\n",
        "    try:\n",
        "        server = smtplib.SMTP('smtp.gmail.com', 587)\n",
        "        server.starttls()\n",
        "        server.login(EMAIL_USER, EMAIL_PASSWORD)\n",
        "        server.sendmail(EMAIL_USER, recipients, msg.as_string())\n",
        "        server.quit()\n",
        "        print(\"✅ Correo enviado exitosamente a:\", recipients)\n",
        "    except Exception as e:\n",
        "        print(\"❌ Error al enviar correo:\", str(e))\n",
        "\n",
        "# --- EJECUTAR SOLO SI ES EL PROGRAMA PRINCIPAL ---\n",
        "if __name__ == \"__main__\":\n",
        "    send_usdt_bob_email()\n",
        "\n",
        "# --- FIN DEL SCRIPT ---\n"
      ]
    }
  ]
}